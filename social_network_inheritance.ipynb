{
  "nbformat": 4,
  "nbformat_minor": 0,
  "metadata": {
    "colab": {
      "provenance": []
    },
    "kernelspec": {
      "name": "python3",
      "display_name": "Python 3"
    },
    "language_info": {
      "name": "python"
    }
  },
  "cells": [
    {
      "cell_type": "code",
      "execution_count": 1,
      "metadata": {
        "colab": {
          "base_uri": "https://localhost:8080/"
        },
        "id": "nzDVZJSQnggx",
        "outputId": "0c8affb7-ffee-4d48-ec63-b2ceec8f99c6"
      },
      "outputs": [
        {
          "output_type": "stream",
          "name": "stdout",
          "text": [
            "Paul McCartney: \"All you need is love!\"\n",
            "  Tuesday, Aug 27, 2024\n",
            "George Harrison: \"Check my new submarine.\"\n",
            "  Pic URL: imgur.com/submarine.jpg\n",
            "  Tuesday, Aug 27, 2024\n",
            "Paul Checked In: \"At Abbey Road Studios\"\n",
            "  19.111, -9.2222\n",
            "  Tuesday, Aug 27, 2024\n",
            "[<__main__.CheckInPost object at 0x7fa794313820>, <__main__.PicturePost object at 0x7fa794313790>, <__main__.TextPost object at 0x7fa794313a00>]\n"
          ]
        }
      ],
      "source": [
        "from datetime import datetime\n",
        "\n",
        "# Base Post class\n",
        "class Post:\n",
        "    def __init__(self, text):\n",
        "        self.text = text\n",
        "        self.user = None\n",
        "        self.created_at = datetime.now()\n",
        "\n",
        "    def __str__(self):\n",
        "        return f'{self.user.first_name} {self.user.last_name}: \"{self.text}\"\\n  {self.created_at.strftime(\"%A, %b %d, %Y\")}'\n",
        "\n",
        "# TextPost class\n",
        "class TextPost(Post):\n",
        "    pass\n",
        "\n",
        "# PicturePost class\n",
        "class PicturePost(Post):\n",
        "    def __init__(self, text, image_url):\n",
        "        super().__init__(text)\n",
        "        self.image_url = image_url\n",
        "\n",
        "    def __str__(self):\n",
        "        return f'{self.user.first_name} {self.user.last_name}: \"{self.text}\"\\n  Pic URL: {self.image_url}\\n  {self.created_at.strftime(\"%A, %b %d, %Y\")}'\n",
        "\n",
        "# CheckInPost class\n",
        "class CheckInPost(Post):\n",
        "    def __init__(self, text, latitude, longitude):\n",
        "        super().__init__(text)\n",
        "        self.latitude = latitude\n",
        "        self.longitude = longitude\n",
        "\n",
        "    def __str__(self):\n",
        "        return f'{self.user.first_name} Checked In: \"{self.text}\"\\n  {self.latitude}, {self.longitude}\\n  {self.created_at.strftime(\"%A, %b %d, %Y\")}'\n",
        "\n",
        "# User class\n",
        "class User:\n",
        "    def __init__(self, first_name, last_name, email):\n",
        "        self.first_name = first_name\n",
        "        self.last_name = last_name\n",
        "        self.email = email\n",
        "        self.posts = []\n",
        "        self.following = []\n",
        "\n",
        "    def add_post(self, post):\n",
        "        post.user = self\n",
        "        self.posts.append(post)\n",
        "\n",
        "    def follow(self, user):\n",
        "        self.following.append(user)\n",
        "\n",
        "    def get_timeline(self):\n",
        "        # Gather posts from followed users\n",
        "        timeline_posts = []\n",
        "        for user in self.following:\n",
        "            timeline_posts.extend(user.posts)\n",
        "        # Sort posts by creation date (most recent first)\n",
        "        return sorted(timeline_posts, key=lambda post: post.created_at, reverse=True)\n",
        "\n",
        "# Example usage\n",
        "if __name__ == \"__main__\":\n",
        "    john = User(\"John\", \"Lennon\", \"john@rmotr.com\")\n",
        "    paul = User(\"Paul\", \"McCartney\", \"paul@rmotr.com\")\n",
        "    george = User(\"George\", \"Harrison\", \"george@rmotr.com\")\n",
        "\n",
        "    # Follow users\n",
        "    john.follow(paul)\n",
        "    john.follow(george)\n",
        "\n",
        "    # Create and add posts\n",
        "    text_post_1 = TextPost(\"All you need is love!\")\n",
        "    picture_post_2 = PicturePost(\"Check my new submarine.\", image_url=\"imgur.com/submarine.jpg\")\n",
        "    checkin_post_3 = CheckInPost(\"At Abbey Road Studios\", latitude=\"19.111\", longitude=\"-9.2222\")\n",
        "\n",
        "    paul.add_post(text_post_1)\n",
        "    george.add_post(picture_post_2)\n",
        "    paul.add_post(checkin_post_3)\n",
        "\n",
        "    # Print posts\n",
        "    print(text_post_1)\n",
        "    print(picture_post_2)\n",
        "    print(checkin_post_3)\n",
        "\n",
        "    # Print timeline\n",
        "    print(john.get_timeline())\n"
      ]
    }
  ]
}